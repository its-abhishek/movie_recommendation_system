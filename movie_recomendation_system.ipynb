{
  "cells": [
    {
      "cell_type": "markdown",
      "metadata": {
        "id": "E3T5afPEc8Sw"
      },
      "source": [
        "**MOVIE RECOMMENDATION SYSTEM**\n",
        "</br>\n",
        "![RECOMENDATION.png](data:image/png;base64,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)"
      ]
    },
    {
      "cell_type": "markdown",
      "metadata": {
        "id": "l9AEEva75TGC"
      },
      "source": [
        "**DATA PREPROCESSING**"
      ]
    },
    {
      "cell_type": "code",
      "execution_count": null,
      "metadata": {
        "id": "CVq07GUxdFkU"
      },
      "outputs": [],
      "source": [
        "import numpy as np\n",
        "import pandas as pd"
      ]
    },
    {
      "cell_type": "code",
      "execution_count": null,
      "metadata": {
        "id": "w0pQDQJOjn8D"
      },
      "outputs": [],
      "source": [
        "movies = pd.read_csv(\"tmdb_5000_movies.csv\")\n",
        "credits = pd.read_csv(\"tmdb_5000_credits.csv\")"
      ]
    },
    {
      "cell_type": "code",
      "execution_count": null,
      "metadata": {
        "colab": {
          "base_uri": "https://localhost:8080/"
        },
        "id": "fsgVEVY1j822",
        "outputId": "ca35be73-9497-4d6b-bf50-bf3c9f12d8e4"
      },
      "outputs": [],
      "source": [
        "# movies.head()\n",
        "print(movies.columns.tolist())"
      ]
    },
    {
      "cell_type": "code",
      "execution_count": null,
      "metadata": {
        "colab": {
          "base_uri": "https://localhost:8080/"
        },
        "id": "aDOifysXlDLS",
        "outputId": "e7cf7b23-99b5-4466-e878-d709a1b07803"
      },
      "outputs": [],
      "source": [
        "# credits.head()\n",
        "print(credits.columns.tolist())"
      ]
    },
    {
      "cell_type": "code",
      "execution_count": null,
      "metadata": {
        "id": "rwhJXgKwmMW5"
      },
      "outputs": [],
      "source": [
        "# credits.head(1)['cast'].values\n",
        "# credits.head(1)['crew'].values"
      ]
    },
    {
      "cell_type": "code",
      "execution_count": null,
      "metadata": {
        "id": "A6ELCQAkmuXG"
      },
      "outputs": [],
      "source": [
        "movies = movies.merge(credits,on='title')"
      ]
    },
    {
      "cell_type": "code",
      "execution_count": null,
      "metadata": {
        "colab": {
          "base_uri": "https://localhost:8080/",
          "height": 217
        },
        "id": "X8NTE8nDnBcT",
        "outputId": "70da83e9-c4ba-4a23-cc1f-bf037cc087aa"
      },
      "outputs": [],
      "source": [
        "movies.head(1)"
      ]
    },
    {
      "cell_type": "code",
      "execution_count": null,
      "metadata": {
        "id": "sN79BURQnotz"
      },
      "outputs": [],
      "source": [
        "# movies['original_language'].value_counts()\n",
        "# movies.info()"
      ]
    },
    {
      "cell_type": "code",
      "execution_count": null,
      "metadata": {
        "id": "iknhmqcjnawC"
      },
      "outputs": [],
      "source": [
        "# genres, id, keywords, title, overview, cast, crew\n",
        "movies = movies[['movie_id','title', 'overview','genres', 'keywords', 'cast', 'crew']]"
      ]
    },
    {
      "cell_type": "code",
      "execution_count": null,
      "metadata": {
        "colab": {
          "base_uri": "https://localhost:8080/",
          "height": 730
        },
        "id": "FGGh7QO4qFrB",
        "outputId": "0a55e1fc-a636-433e-e2f2-8c1ef197b7f8"
      },
      "outputs": [],
      "source": [
        "movies.head()"
      ]
    },
    {
      "cell_type": "code",
      "execution_count": null,
      "metadata": {
        "colab": {
          "base_uri": "https://localhost:8080/"
        },
        "id": "jzf_cwexqnXP",
        "outputId": "9df06e9f-c396-40ed-a170-ff8a896afde8"
      },
      "outputs": [],
      "source": [
        "movies.isnull().sum() # checking is there any null values"
      ]
    },
    {
      "cell_type": "code",
      "execution_count": null,
      "metadata": {
        "id": "b8cWvOgFqt17"
      },
      "outputs": [],
      "source": [
        "movies.dropna(inplace=True) # there are three in overview column, usiing this replacing with true"
      ]
    },
    {
      "cell_type": "code",
      "execution_count": null,
      "metadata": {
        "colab": {
          "base_uri": "https://localhost:8080/"
        },
        "id": "uBqLkUbIrE3y",
        "outputId": "bc98a9c1-385a-4ece-f7f4-cfccafeba719"
      },
      "outputs": [],
      "source": [
        "movies.duplicated().sum() # checking is there any duplicate values in the dataset"
      ]
    },
    {
      "cell_type": "code",
      "execution_count": null,
      "metadata": {
        "colab": {
          "base_uri": "https://localhost:8080/",
          "height": 35
        },
        "id": "LQXsqHS2rycB",
        "outputId": "f035f135-b8a6-4897-f5e9-b3035325b82f"
      },
      "outputs": [],
      "source": [
        "movies.iloc[0].genres"
      ]
    },
    {
      "cell_type": "code",
      "execution_count": null,
      "metadata": {
        "id": "Vztps_yqsmfA"
      },
      "outputs": [],
      "source": [
        "# [{\"id\": 28, \"name\": \"Action\"}, {\"id\": 12, \"name\": \"Adventure\"}, {\"id\": 14, \"name\": \"Fantasy\"}, {\"id\": 878, \"name\": \"Science Fiction\"}]\n",
        "# ['Action', 'Adventure', 'Fantency', 'Scifi'] formating above data\n",
        "import ast\n",
        "\n",
        "def convert(obj):\n",
        "  L = []\n",
        "  for i in ast.literal_eval(obj):\n",
        "    L.append(i['name'])\n",
        "  return L"
      ]
    },
    {
      "cell_type": "code",
      "execution_count": null,
      "metadata": {
        "id": "atBbY-axs-LL"
      },
      "outputs": [],
      "source": [
        "movies['genres'] = movies['genres'].apply(convert)"
      ]
    },
    {
      "cell_type": "code",
      "execution_count": null,
      "metadata": {
        "id": "TjSO2K-DuvbC"
      },
      "outputs": [],
      "source": [
        "movies['keywords'] = movies['keywords'].apply(convert)"
      ]
    },
    {
      "cell_type": "code",
      "execution_count": null,
      "metadata": {
        "id": "cPLMDZJPvInG"
      },
      "outputs": [],
      "source": [
        "def convert_cast(obj):\n",
        "  L = []\n",
        "  counter = 0\n",
        "  for i in ast.literal_eval(obj):\n",
        "    if counter != 3:\n",
        "      L.append(i['name'])\n",
        "      counter+=1\n",
        "    else:\n",
        "      break\n",
        "  return L"
      ]
    },
    {
      "cell_type": "code",
      "execution_count": null,
      "metadata": {
        "id": "fZj4AOfTveg_"
      },
      "outputs": [],
      "source": [
        "movies['cast'] = movies['cast'].apply(convert_cast)"
      ]
    },
    {
      "cell_type": "code",
      "execution_count": null,
      "metadata": {
        "id": "eQXsPecdwDaH"
      },
      "outputs": [],
      "source": [
        "def fetch_director(obj):\n",
        "  L = []\n",
        "  for i in ast.literal_eval(obj):\n",
        "    if i['job'] == 'Director':\n",
        "     L.append(i['name'])\n",
        "     break\n",
        "  return L"
      ]
    },
    {
      "cell_type": "code",
      "execution_count": null,
      "metadata": {
        "id": "akZlVZ8Kzjmp"
      },
      "outputs": [],
      "source": [
        "movies['crew'] = movies['crew'].apply(fetch_director)"
      ]
    },
    {
      "cell_type": "code",
      "execution_count": null,
      "metadata": {
        "id": "MOtQS71kz7S_"
      },
      "outputs": [],
      "source": [
        "movies['overview'] = movies['overview'].apply(lambda x:x.split()) # overview is in string for converting to list so that we can concartinate with other lists"
      ]
    },
    {
      "cell_type": "code",
      "execution_count": null,
      "metadata": {
        "colab": {
          "base_uri": "https://localhost:8080/",
          "height": 293
        },
        "id": "4ftBed850fqV",
        "outputId": "c1c2152d-4209-47a9-c188-e9782ce7c488"
      },
      "outputs": [],
      "source": [
        "movies.head()"
      ]
    },
    {
      "cell_type": "code",
      "execution_count": null,
      "metadata": {
        "id": "1E1nd6nF1mm4"
      },
      "outputs": [],
      "source": [
        "# removing the space between name like sam worthinton as samworthington for better search\n",
        "movies['genres'] = movies['genres'].apply(lambda x:[i.replace(\" \",\"\") for i in x])\n",
        "movies['keywords'] = movies['keywords'].apply(lambda x:[i.replace(\" \",\"\") for i in x])\n",
        "movies['cast'] = movies['cast'].apply(lambda x:[i.replace(\" \",\"\") for i in x])\n",
        "movies['crew'] = movies['crew'].apply(lambda x:[i.replace(\" \",\"\") for i in x])"
      ]
    },
    {
      "cell_type": "code",
      "execution_count": null,
      "metadata": {
        "colab": {
          "base_uri": "https://localhost:8080/",
          "height": 293
        },
        "id": "dp-skX7J2bnk",
        "outputId": "b5b1436f-9429-4fea-a4eb-cc10a838fc0a"
      },
      "outputs": [],
      "source": [
        "movies.head()"
      ]
    },
    {
      "cell_type": "code",
      "execution_count": null,
      "metadata": {
        "id": "DlBo1E0W2iyD"
      },
      "outputs": [],
      "source": [
        "movies['tags'] = movies['overview'] + movies['genres'] + movies['keywords'] + movies['cast'] + movies['crew']"
      ]
    },
    {
      "cell_type": "code",
      "execution_count": null,
      "metadata": {
        "colab": {
          "base_uri": "https://localhost:8080/",
          "height": 293
        },
        "id": "vQhiZ0sz28rk",
        "outputId": "f698880c-7b72-490c-82fd-49a5d5c7d8be"
      },
      "outputs": [],
      "source": [
        "movies.head()"
      ]
    },
    {
      "cell_type": "code",
      "execution_count": null,
      "metadata": {
        "id": "zRgHELa03BhN"
      },
      "outputs": [],
      "source": [
        "new_df = movies[['movie_id', 'title', 'tags']]"
      ]
    },
    {
      "cell_type": "code",
      "execution_count": null,
      "metadata": {
        "colab": {
          "base_uri": "https://localhost:8080/",
          "height": 1337
        },
        "id": "mZP-WMg33PKe",
        "outputId": "38d49d18-7c33-42f3-fe40-1cfe578c26ed"
      },
      "outputs": [],
      "source": [
        "new_df.head()"
      ]
    },
    {
      "cell_type": "code",
      "execution_count": null,
      "metadata": {
        "colab": {
          "base_uri": "https://localhost:8080/"
        },
        "id": "h2tHpmqw3Z5v",
        "outputId": "92ce759a-45f2-49d2-c65b-121dd53d6bb5"
      },
      "outputs": [],
      "source": [
        "new_df['tags'] = new_df['tags'].apply(lambda x: \" \".join(x))"
      ]
    },
    {
      "cell_type": "code",
      "execution_count": null,
      "metadata": {
        "colab": {
          "base_uri": "https://localhost:8080/",
          "height": 206
        },
        "id": "ScYEMDyy4c8L",
        "outputId": "29ad69e0-c0a7-4462-cbbd-7a695922e46c"
      },
      "outputs": [],
      "source": [
        "new_df.head()"
      ]
    },
    {
      "cell_type": "code",
      "execution_count": null,
      "metadata": {
        "id": "6ZFycn7y_r3v"
      },
      "outputs": [],
      "source": [
        "import nltk\n",
        "from nltk.stem.porter import PorterStemmer\n",
        "ps = PorterStemmer()"
      ]
    },
    {
      "cell_type": "code",
      "execution_count": null,
      "metadata": {
        "id": "OFDZJ6WKAJC_"
      },
      "outputs": [],
      "source": [
        "def stem(text):\n",
        "  y = []\n",
        "  for i in text.split():\n",
        "    y.append(ps.stem(i))\n",
        "  return \" \".join(y)"
      ]
    },
    {
      "cell_type": "code",
      "execution_count": null,
      "metadata": {
        "colab": {
          "base_uri": "https://localhost:8080/"
        },
        "id": "cIFiTfFbAmks",
        "outputId": "8fc3e7c3-3228-47c9-cbc9-cd859c393930"
      },
      "outputs": [],
      "source": [
        "new_df['tags'] = new_df['tags'].apply(stem)"
      ]
    },
    {
      "cell_type": "code",
      "execution_count": null,
      "metadata": {
        "colab": {
          "base_uri": "https://localhost:8080/",
          "height": 70
        },
        "id": "Umi4xYh04l--",
        "outputId": "13502afb-926f-4049-c105-52d5c84fa38d"
      },
      "outputs": [],
      "source": [
        "new_df['tags'][0]"
      ]
    },
    {
      "cell_type": "code",
      "execution_count": null,
      "metadata": {
        "colab": {
          "base_uri": "https://localhost:8080/"
        },
        "id": "SsHwZ6MV4zZP",
        "outputId": "96df0e03-07ee-4edd-b600-2b27f932c79c"
      },
      "outputs": [],
      "source": [
        "new_df['tags'] = new_df['tags'].apply(lambda x:x.lower())"
      ]
    },
    {
      "cell_type": "code",
      "execution_count": null,
      "metadata": {
        "colab": {
          "base_uri": "https://localhost:8080/",
          "height": 206
        },
        "id": "N5kDwWlb46tU",
        "outputId": "f001c761-a34f-40ac-af21-f5b00db4ba92"
      },
      "outputs": [],
      "source": [
        "new_df.head()"
      ]
    },
    {
      "cell_type": "markdown",
      "metadata": {
        "id": "QH5A_hYE6cl8"
      },
      "source": [
        "**VECTORIZATION**\n",
        "\n",
        "we are using **BagOfWords** technique for vectorization of tags"
      ]
    },
    {
      "cell_type": "markdown",
      "metadata": {
        "id": "oMgPC0PMBt7W"
      },
      "source": [
        "converted text to vectors"
      ]
    },
    {
      "cell_type": "code",
      "execution_count": null,
      "metadata": {
        "id": "-bdMNx9R6fOD"
      },
      "outputs": [],
      "source": [
        "from sklearn.feature_extraction.text import CountVectorizer\n",
        "cv = CountVectorizer(max_features=5000, stop_words='english')"
      ]
    },
    {
      "cell_type": "code",
      "execution_count": null,
      "metadata": {
        "id": "bWi4F56W99oz"
      },
      "outputs": [],
      "source": [
        "vectors = cv.fit_transform(new_df['tags']).toarray()"
      ]
    },
    {
      "cell_type": "code",
      "execution_count": null,
      "metadata": {
        "colab": {
          "base_uri": "https://localhost:8080/"
        },
        "id": "uoD6mKRd-Yx0",
        "outputId": "eac437dd-3b84-4899-f0ad-ee7812af4b1e"
      },
      "outputs": [],
      "source": [
        "vectors[0]"
      ]
    },
    {
      "cell_type": "code",
      "execution_count": null,
      "metadata": {
        "colab": {
          "base_uri": "https://localhost:8080/"
        },
        "id": "QqZnTvkt-btw",
        "outputId": "6fbdfe41-05d8-489a-d523-3f0cbc78374d"
      },
      "outputs": [],
      "source": [
        "cv.get_feature_names_out()"
      ]
    },
    {
      "cell_type": "markdown",
      "metadata": {
        "id": "40rbfX1LB5Xr"
      },
      "source": [
        "using cosine for calculating angle between the vector"
      ]
    },
    {
      "cell_type": "code",
      "execution_count": null,
      "metadata": {
        "id": "8NKovtTOB3-o"
      },
      "outputs": [],
      "source": [
        "from sklearn.metrics.pairwise import cosine_similarity"
      ]
    },
    {
      "cell_type": "code",
      "execution_count": null,
      "metadata": {
        "id": "ChJr0PNoCOPb"
      },
      "outputs": [],
      "source": [
        "similarity = cosine_similarity(vectors)"
      ]
    },
    {
      "cell_type": "code",
      "execution_count": null,
      "metadata": {
        "colab": {
          "base_uri": "https://localhost:8080/"
        },
        "id": "SYaS-V-7CVsN",
        "outputId": "f4a6eb39-80e3-4c02-a870-abea39c560a5"
      },
      "outputs": [],
      "source": [
        "sorted(list(enumerate(similarity[0])),reverse = True, key = lambda x:x[1])[1:6] # sorting based on angle"
      ]
    },
    {
      "cell_type": "markdown",
      "metadata": {
        "id": "fKSvpeVYCcrp"
      },
      "source": [
        "**Main function**"
      ]
    },
    {
      "cell_type": "code",
      "execution_count": null,
      "metadata": {
        "id": "ZHQrlsr6CblW"
      },
      "outputs": [],
      "source": [
        "def recommend(movie):\n",
        "  movies_index = new_df[new_df['title'] == movie].index[0]\n",
        "  distances = similarity[movies_index]\n",
        "  movies_list = sorted(list(enumerate(distances)),reverse = True, key = lambda x:x[1])[1:6]\n",
        "\n",
        "  for i in movies_list:\n",
        "    print(new_df.iloc[i[0]].title)"
      ]
    },
    {
      "cell_type": "code",
      "execution_count": null,
      "metadata": {
        "colab": {
          "base_uri": "https://localhost:8080/"
        },
        "id": "AwdII1DXFAR2",
        "outputId": "6a63f61a-f068-4681-fdcd-537c3767924c"
      },
      "outputs": [],
      "source": [
        "recommend('Avatar')"
      ]
    },
    {
      "cell_type": "code",
      "execution_count": null,
      "metadata": {
        "colab": {
          "base_uri": "https://localhost:8080/"
        },
        "id": "V4QOPWYvFeIv",
        "outputId": "67d67521-d9f5-4301-f349-d17d93d1c353"
      },
      "outputs": [],
      "source": [
        "recommend('Batman Begins')"
      ]
    },
    {
      "cell_type": "code",
      "execution_count": null,
      "metadata": {
        "colab": {
          "base_uri": "https://localhost:8080/",
          "height": 1295
        },
        "id": "EQ9J_BdnPaWo",
        "outputId": "0b91d28a-d7fc-4df7-bdf9-4570a7b75dc5"
      },
      "outputs": [],
      "source": [
        "new_df"
      ]
    },
    {
      "cell_type": "code",
      "execution_count": null,
      "metadata": {
        "id": "xP8lN_FVJaN1"
      },
      "outputs": [],
      "source": [
        "import pickle"
      ]
    },
    {
      "cell_type": "code",
      "execution_count": null,
      "metadata": {
        "id": "qxwtnsC9KzcR"
      },
      "outputs": [],
      "source": [
        "pickle.dump(new_df.to_dict(),open('movies_dict.pkl','wb'))"
      ]
    },
    {
      "cell_type": "code",
      "execution_count": null,
      "metadata": {
        "id": "hBP14QI3UsRr"
      },
      "outputs": [],
      "source": [
        "pickle.dump(similarity,open('similarity.pkl','wb'))"
      ]
    }
  ],
  "metadata": {
    "colab": {
      "provenance": []
    },
    "kernelspec": {
      "display_name": "Python 3",
      "name": "python3"
    },
    "language_info": {
      "codemirror_mode": {
        "name": "ipython",
        "version": 3
      },
      "file_extension": ".py",
      "mimetype": "text/x-python",
      "name": "python",
      "nbconvert_exporter": "python",
      "pygments_lexer": "ipython3",
      "version": "3.11.4"
    }
  },
  "nbformat": 4,
  "nbformat_minor": 0
}
